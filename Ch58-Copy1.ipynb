{
 "cells": [
  {
   "cell_type": "code",
   "execution_count": 5,
   "id": "57c620cb-3fc5-4066-9ee7-8bea150c589d",
   "metadata": {
    "editable": true,
    "slideshow": {
     "slide_type": ""
    },
    "tags": []
   },
   "outputs": [
    {
     "name": "stdout",
     "output_type": "stream",
     "text": [
      "/Users/evaedwards\n"
     ]
    }
   ],
   "source": [
    "import os\n",
    "print(os.getcwd())"
   ]
  },
  {
   "cell_type": "code",
   "execution_count": 7,
   "id": "4a58cd44-7139-4a55-ae2e-bded15042f5f",
   "metadata": {
    "editable": true,
    "slideshow": {
     "slide_type": ""
    },
    "tags": []
   },
   "outputs": [],
   "source": [
    "import os\n",
    "os.chdir('/Users/evaedwards/Final-Year-Project')"
   ]
  },
  {
   "cell_type": "code",
   "execution_count": 9,
   "id": "b6435af3-e7f1-466b-853e-3514ca53214d",
   "metadata": {},
   "outputs": [
    {
     "name": "stdout",
     "output_type": "stream",
     "text": [
      "/Users/evaedwards/Final-Year-Project\n"
     ]
    }
   ],
   "source": [
    "print(os.getcwd())"
   ]
  },
  {
   "cell_type": "code",
   "execution_count": 28,
   "id": "3c3609c1-7c2c-433e-a900-d5c1bf1f56f8",
   "metadata": {},
   "outputs": [
    {
     "name": "stdout",
     "output_type": "stream",
     "text": [
      "GCA_004217705.1_ASM421770v1_genomic-1.gbk\n"
     ]
    }
   ],
   "source": [
    "print(genbank_file)"
   ]
  },
  {
   "cell_type": "code",
   "execution_count": 30,
   "id": "882d6f46-d1b5-465a-a137-e337d4f78748",
   "metadata": {},
   "outputs": [
    {
     "name": "stdout",
     "output_type": "stream",
     "text": [
      "CP034456.1\n",
      "CP034457.1\n",
      "CP034458.1\n",
      "CP034459.1\n",
      "CP034460.1\n",
      "CP034461.1\n",
      "CP034462.1\n"
     ]
    }
   ],
   "source": [
    "# Parse the GenBank file\n",
    "with open(genbank_file, \"r\") as handle:\n",
    "    for record in SeqIO.parse(handle, \"genbank\"):\n",
    "        # Process each record individually\n",
    "        print(record.id)  # For example, printing the record ID\n",
    "        # Add your other processing code here"
   ]
  },
  {
   "cell_type": "code",
   "execution_count": 32,
   "id": "cc66bdfc-f6da-497e-81e6-92e4daa67c6c",
   "metadata": {
    "editable": true,
    "slideshow": {
     "slide_type": ""
    },
    "tags": []
   },
   "outputs": [
    {
     "name": "stdout",
     "output_type": "stream",
     "text": [
      "Found record with ID CP034458.1:\n",
      "ID: CP034458.1\n",
      "Name: CP034458\n",
      "Description: Metschnikowia aff. pulcherrima strain APC 1.2 chromosome III, complete sequence\n",
      "Database cross-references: BioProject:PRJNA508581, BioSample:SAMN10525143\n",
      "Number of features: 2801\n",
      "/molecule_type=DNA\n",
      "/topology=linear\n",
      "/data_file_division=PLN\n",
      "/date=23-MAY-2019\n",
      "/accessions=['CP034458']\n",
      "/sequence_version=1\n",
      "/keywords=['']\n",
      "/source=Metschnikowia aff. pulcherrima\n",
      "/organism=Metschnikowia aff. pulcherrima\n",
      "/taxonomy=['Eukaryota', 'Fungi', 'Dikarya', 'Ascomycota', 'Saccharomycotina', 'Saccharomycetes', 'Saccharomycetales', 'Metschnikowiaceae', 'Metschnikowia']\n",
      "/references=[Reference(title='Snf2 controls pulcherriminic acid biosynthesis and antifungal activity of the biocontrol yeast Metschnikowia pulcherrima', ...), Reference(title='Direct Submission', ...), Reference(title='Direct Submission', ...)]\n",
      "/structured_comment=defaultdict(<class 'dict'>, {'Genome-Assembly-Data': {'Assembly Date': '07-FEB-2017', 'Assembly Method': 'PacBio SMRT Portal (Canu) v. 2.3.0', 'Genome Representation': 'Full', 'Expected Final Version': 'Yes', 'Genome Coverage': '254.0x', 'Sequencing Technology': 'PacBio'}})\n",
      "Seq('TATTTATTAGATAAAAAATCAACACTCCAGAAGATTCATAATAACTTGTCGAAT...CAT')\n"
     ]
    }
   ],
   "source": [
    "from Bio import SeqIO\n",
    "\n",
    "genbank_file = \"GCA_004217705.1_ASM421770v1_genomic-1.gbk\"\n",
    "record_id = \"CP034458.1\"\n",
    "\n",
    "# Parse the GenBank file and find the specific record by ID\n",
    "with open(genbank_file, \"r\") as handle:\n",
    "    for record in SeqIO.parse(handle, \"genbank\"):\n",
    "        if record.id == record_id:\n",
    "            # Once the correct record is found, print or process it\n",
    "            print(f\"Found record with ID {record_id}:\")\n",
    "            print(record)  # Or process the record further as needed\n",
    "            break  # Exit the loop after finding the record"
   ]
  },
  {
   "cell_type": "code",
   "execution_count": null,
   "id": "6c6431fa-6d75-4f44-ba81-039ff9a5c3dd",
   "metadata": {
    "editable": true,
    "slideshow": {
     "slide_type": ""
    },
    "tags": []
   },
   "outputs": [],
   "source": [
    "from Bio import SeqIO\n",
    "from Bio.SeqFeature import SeqFeature, FeatureLocation\n",
    "\n",
    "genbank_file = \"GCA_004217705.1_ASM421770v1_genomic-1.gbk\"\n",
    "record_id = \"CP034458.1\"\n",
    "output_file = \"CP034458_annotated_with_features.gbk\"\n",
    "\n",
    "# Parse the GenBank file and find the specific record by ID\n",
    "with open(genbank_file, \"r\") as handle:\n",
    "    for record in SeqIO.parse(handle, \"genbank\"):\n",
    "        if record.id == record_id:\n",
    "            # Add a custom feature annotation (example)\n",
    "            feature = SeqFeature(FeatureLocation(100, 200), type=\"gene\", qualifiers={\"gene\": \"example_gene\"})\n",
    "            record.features.append(feature)\n",
    "\n",
    "            # Save the annotated record to a new file\n",
    "            with open(output_file, \"w\") as output_handle:\n",
    "                SeqIO.write(record, output_handle, \"genbank\")\n",
    "            print(f\"Annotated record with ID {record_id} has been saved to {output_file}\")\n",
    "            break\n",
    "\n",
    "import pandas as pd\n",
    "\n",
    "genbank_file = \"CP034458_annotated_with_features.gbk\"\n",
    "record_id = \"CP034458.1\"\n",
    "\n",
    "# Initialize an empty list to store the gene information\n",
    "gene_data = []\n",
    "\n",
    "# Parse the GenBank file and find the specific record by ID\n",
    "with open(genbank_file, \"r\") as handle:\n",
    "    for record in SeqIO.parse(handle, \"genbank\"):\n",
    "        if record.id == record_id:\n",
    "            # Extract the CDS (coding region) annotations\n",
    "            for feature in record.features:\n",
    "                if feature.type == \"CDS\":\n",
    "                    # Extract the gene information: Product, start, end, strand\n",
    "                    gene_info = {\n",
    "                        \"Product\": feature.qualifiers.get(\"product\", [\"unknown\"])[0],  # Use Product, fallback to \"unknown\"\n",
    "                        \"Start Position\": int(feature.location.start),  # Start position of CDS\n",
    "                        \"End Position\": int(feature.location.end),      # End position of CDS\n",
    "                        \"Strand\": \"+\" if feature.strand == 1 else \"-\"  # Strand direction\n",
    "                    }\n",
    "                    gene_data.append(gene_info)\n",
    "\n",
    "# Create a DataFrame from the list of gene data\n",
    "df = pd.DataFrame(gene_data)\n",
    "\n",
    "# Display the table\n",
    "print(df)\n",
    "\n",
    "# If you want to save this table to a CSV file\n",
    "df.to_csv(\"coding_regions_table_with_product.csv\", index=False)\n",
    "\n"
   ]
  }
 ],
 "metadata": {
  "kernelspec": {
   "display_name": "Python 3 (ipykernel)",
   "language": "python",
   "name": "python3"
  },
  "language_info": {
   "codemirror_mode": {
    "name": "ipython",
    "version": 3
   },
   "file_extension": ".py",
   "mimetype": "text/x-python",
   "name": "python",
   "nbconvert_exporter": "python",
   "pygments_lexer": "ipython3",
   "version": "3.12.7"
  }
 },
 "nbformat": 4,
 "nbformat_minor": 5
}
