{
 "cells": [
  {
   "cell_type": "code",
   "execution_count": 1,
   "id": "72d886c2-88f4-456f-9b08-f6c987daf12f",
   "metadata": {},
   "outputs": [
    {
     "name": "stdout",
     "output_type": "stream",
     "text": [
      "Requirement already satisfied: biopython in /opt/anaconda3/lib/python3.12/site-packages (1.84)\n",
      "Requirement already satisfied: numpy in /opt/anaconda3/lib/python3.12/site-packages (from biopython) (1.26.4)\n",
      "Note: you may need to restart the kernel to use updated packages.\n"
     ]
    }
   ],
   "source": [
    "pip install biopython"
   ]
  },
  {
   "cell_type": "code",
   "execution_count": 3,
   "id": "d083a896-958d-4891-9043-d80db9ccdc20",
   "metadata": {
    "editable": true,
    "slideshow": {
     "slide_type": ""
    },
    "tags": []
   },
   "outputs": [
    {
     "ename": "FileNotFoundError",
     "evalue": "[Errno 2] No such file or directory: 'GCA_004217705.1_ASM421770v1_genomic-1.gbk'",
     "output_type": "error",
     "traceback": [
      "\u001b[0;31m---------------------------------------------------------------------------\u001b[0m",
      "\u001b[0;31mFileNotFoundError\u001b[0m                         Traceback (most recent call last)",
      "Cell \u001b[0;32mIn[3], line 5\u001b[0m\n\u001b[1;32m      3\u001b[0m \u001b[38;5;66;03m# Load GenBank file\u001b[39;00m\n\u001b[1;32m      4\u001b[0m genbank_file \u001b[38;5;241m=\u001b[39m \u001b[38;5;124m\"\u001b[39m\u001b[38;5;124mGCA_004217705.1_ASM421770v1_genomic-1.gbk\u001b[39m\u001b[38;5;124m\"\u001b[39m\n\u001b[0;32m----> 5\u001b[0m genbank_data \u001b[38;5;241m=\u001b[39m SeqIO\u001b[38;5;241m.\u001b[39mread(genbank_file, \u001b[38;5;124m\"\u001b[39m\u001b[38;5;124mgenbank\u001b[39m\u001b[38;5;124m\"\u001b[39m)\n",
      "File \u001b[0;32m/opt/anaconda3/lib/python3.12/site-packages/Bio/SeqIO/__init__.py:672\u001b[0m, in \u001b[0;36mread\u001b[0;34m(handle, format, alphabet)\u001b[0m\n\u001b[1;32m    632\u001b[0m \u001b[38;5;28;01mdef\u001b[39;00m \u001b[38;5;21mread\u001b[39m(handle, \u001b[38;5;28mformat\u001b[39m, alphabet\u001b[38;5;241m=\u001b[39m\u001b[38;5;28;01mNone\u001b[39;00m):\n\u001b[1;32m    633\u001b[0m \u001b[38;5;250m    \u001b[39m\u001b[38;5;124;03m\"\"\"Turn a sequence file into a single SeqRecord.\u001b[39;00m\n\u001b[1;32m    634\u001b[0m \n\u001b[1;32m    635\u001b[0m \u001b[38;5;124;03m    Arguments:\u001b[39;00m\n\u001b[0;32m   (...)\u001b[0m\n\u001b[1;32m    670\u001b[0m \u001b[38;5;124;03m    to read multiple records from the handle.\u001b[39;00m\n\u001b[1;32m    671\u001b[0m \u001b[38;5;124;03m    \"\"\"\u001b[39;00m\n\u001b[0;32m--> 672\u001b[0m     iterator \u001b[38;5;241m=\u001b[39m parse(handle, \u001b[38;5;28mformat\u001b[39m, alphabet)\n\u001b[1;32m    673\u001b[0m     \u001b[38;5;28;01mtry\u001b[39;00m:\n\u001b[1;32m    674\u001b[0m         record \u001b[38;5;241m=\u001b[39m \u001b[38;5;28mnext\u001b[39m(iterator)\n",
      "File \u001b[0;32m/opt/anaconda3/lib/python3.12/site-packages/Bio/SeqIO/__init__.py:625\u001b[0m, in \u001b[0;36mparse\u001b[0;34m(handle, format, alphabet)\u001b[0m\n\u001b[1;32m    623\u001b[0m iterator_generator \u001b[38;5;241m=\u001b[39m _FormatToIterator\u001b[38;5;241m.\u001b[39mget(\u001b[38;5;28mformat\u001b[39m)\n\u001b[1;32m    624\u001b[0m \u001b[38;5;28;01mif\u001b[39;00m iterator_generator:\n\u001b[0;32m--> 625\u001b[0m     \u001b[38;5;28;01mreturn\u001b[39;00m iterator_generator(handle)\n\u001b[1;32m    626\u001b[0m \u001b[38;5;28;01mif\u001b[39;00m \u001b[38;5;28mformat\u001b[39m \u001b[38;5;129;01min\u001b[39;00m AlignIO\u001b[38;5;241m.\u001b[39m_FormatToIterator:\n\u001b[1;32m    627\u001b[0m     \u001b[38;5;66;03m# Use Bio.AlignIO to read in the alignments\u001b[39;00m\n\u001b[1;32m    628\u001b[0m     \u001b[38;5;28;01mreturn\u001b[39;00m (r \u001b[38;5;28;01mfor\u001b[39;00m alignment \u001b[38;5;129;01min\u001b[39;00m AlignIO\u001b[38;5;241m.\u001b[39mparse(handle, \u001b[38;5;28mformat\u001b[39m) \u001b[38;5;28;01mfor\u001b[39;00m r \u001b[38;5;129;01min\u001b[39;00m alignment)\n",
      "File \u001b[0;32m/opt/anaconda3/lib/python3.12/site-packages/Bio/SeqIO/InsdcIO.py:102\u001b[0m, in \u001b[0;36mGenBankIterator.__init__\u001b[0;34m(self, source)\u001b[0m\n\u001b[1;32m     65\u001b[0m \u001b[38;5;28;01mdef\u001b[39;00m \u001b[38;5;21m__init__\u001b[39m(\u001b[38;5;28mself\u001b[39m, source):\n\u001b[1;32m     66\u001b[0m \u001b[38;5;250m    \u001b[39m\u001b[38;5;124;03m\"\"\"Break up a Genbank file into SeqRecord objects.\u001b[39;00m\n\u001b[1;32m     67\u001b[0m \n\u001b[1;32m     68\u001b[0m \u001b[38;5;124;03m    Argument source is a file-like object opened in text mode or a path to a file.\u001b[39;00m\n\u001b[0;32m   (...)\u001b[0m\n\u001b[1;32m    100\u001b[0m \n\u001b[1;32m    101\u001b[0m \u001b[38;5;124;03m    \"\"\"\u001b[39;00m\n\u001b[0;32m--> 102\u001b[0m     \u001b[38;5;28msuper\u001b[39m()\u001b[38;5;241m.\u001b[39m\u001b[38;5;21m__init__\u001b[39m(source, mode\u001b[38;5;241m=\u001b[39m\u001b[38;5;124m\"\u001b[39m\u001b[38;5;124mt\u001b[39m\u001b[38;5;124m\"\u001b[39m, fmt\u001b[38;5;241m=\u001b[39m\u001b[38;5;124m\"\u001b[39m\u001b[38;5;124mGenBank\u001b[39m\u001b[38;5;124m\"\u001b[39m)\n",
      "File \u001b[0;32m/opt/anaconda3/lib/python3.12/site-packages/Bio/SeqIO/Interfaces.py:64\u001b[0m, in \u001b[0;36mSequenceIterator.__init__\u001b[0;34m(self, source, alphabet, mode, fmt)\u001b[0m\n\u001b[1;32m     62\u001b[0m     \u001b[38;5;28;01mraise\u001b[39;00m \u001b[38;5;167;01mValueError\u001b[39;00m(\u001b[38;5;124m\"\u001b[39m\u001b[38;5;124mThe alphabet argument is no longer supported\u001b[39m\u001b[38;5;124m\"\u001b[39m)\n\u001b[1;32m     63\u001b[0m \u001b[38;5;28;01mif\u001b[39;00m \u001b[38;5;28misinstance\u001b[39m(source, _PathLikeTypes):\n\u001b[0;32m---> 64\u001b[0m     \u001b[38;5;28mself\u001b[39m\u001b[38;5;241m.\u001b[39mstream \u001b[38;5;241m=\u001b[39m \u001b[38;5;28mopen\u001b[39m(source, \u001b[38;5;124m\"\u001b[39m\u001b[38;5;124mr\u001b[39m\u001b[38;5;124m\"\u001b[39m \u001b[38;5;241m+\u001b[39m mode)\n\u001b[1;32m     65\u001b[0m     \u001b[38;5;28mself\u001b[39m\u001b[38;5;241m.\u001b[39mshould_close_stream \u001b[38;5;241m=\u001b[39m \u001b[38;5;28;01mTrue\u001b[39;00m\n\u001b[1;32m     66\u001b[0m \u001b[38;5;28;01melse\u001b[39;00m:\n",
      "\u001b[0;31mFileNotFoundError\u001b[0m: [Errno 2] No such file or directory: 'GCA_004217705.1_ASM421770v1_genomic-1.gbk'"
     ]
    }
   ],
   "source": [
    "from Bio import SeqIO\n",
    "\n",
    "# Load GenBank file\n",
    "genbank_file = \"GCA_004217705.1_ASM421770v1_genomic-1.gbk\"\n",
    "genbank_data = SeqIO.read(genbank_file, \"genbank\")"
   ]
  },
  {
   "cell_type": "code",
   "execution_count": 5,
   "id": "57c620cb-3fc5-4066-9ee7-8bea150c589d",
   "metadata": {},
   "outputs": [
    {
     "name": "stdout",
     "output_type": "stream",
     "text": [
      "/Users/evaedwards\n"
     ]
    }
   ],
   "source": [
    "import os\n",
    "print(os.getcwd())"
   ]
  },
  {
   "cell_type": "code",
   "execution_count": 7,
   "id": "4a58cd44-7139-4a55-ae2e-bded15042f5f",
   "metadata": {},
   "outputs": [],
   "source": [
    "import os\n",
    "os.chdir('/Users/evaedwards/Final-Year-Project')"
   ]
  },
  {
   "cell_type": "code",
   "execution_count": 9,
   "id": "b6435af3-e7f1-466b-853e-3514ca53214d",
   "metadata": {},
   "outputs": [
    {
     "name": "stdout",
     "output_type": "stream",
     "text": [
      "/Users/evaedwards/Final-Year-Project\n"
     ]
    }
   ],
   "source": [
    "print(os.getcwd())"
   ]
  },
  {
   "cell_type": "code",
   "execution_count": 11,
   "id": "965ee4d8-3130-4620-b63f-28ed84f20773",
   "metadata": {},
   "outputs": [],
   "source": [
    "from Bio import SeqIO\n",
    "\n",
    "# Load GenBank file\n",
    "genbank_file = \"GCA_004217705.1_ASM421770v1_genomic-1.gbk\""
   ]
  },
  {
   "cell_type": "code",
   "execution_count": 13,
   "id": "76b6058e-3dcc-4ce8-a99c-d1804c2f7779",
   "metadata": {},
   "outputs": [
    {
     "name": "stdout",
     "output_type": "stream",
     "text": [
      "GCA_004217705.1_ASM421770v1_genomic-1.gbk\n"
     ]
    }
   ],
   "source": [
    "print(genbank_file)"
   ]
  },
  {
   "cell_type": "code",
   "execution_count": 22,
   "id": "c4966ce2-b203-466f-bef7-966fff2cd195",
   "metadata": {},
   "outputs": [],
   "source": [
    "genbank_data = SeqIO.parse(genbank_file, \"genbank\")"
   ]
  },
  {
   "cell_type": "code",
   "execution_count": 24,
   "id": "972bf0ee-01c5-421c-bf71-b33dbb45959f",
   "metadata": {},
   "outputs": [],
   "source": [
    "genbank_data = SeqIO.parse(genbank_file, \"genbank\")"
   ]
  },
  {
   "cell_type": "code",
   "execution_count": 28,
   "id": "3c3609c1-7c2c-433e-a900-d5c1bf1f56f8",
   "metadata": {},
   "outputs": [
    {
     "name": "stdout",
     "output_type": "stream",
     "text": [
      "GCA_004217705.1_ASM421770v1_genomic-1.gbk\n"
     ]
    }
   ],
   "source": [
    "print(genbank_file)"
   ]
  },
  {
   "cell_type": "code",
   "execution_count": 30,
   "id": "882d6f46-d1b5-465a-a137-e337d4f78748",
   "metadata": {},
   "outputs": [
    {
     "name": "stdout",
     "output_type": "stream",
     "text": [
      "CP034456.1\n",
      "CP034457.1\n",
      "CP034458.1\n",
      "CP034459.1\n",
      "CP034460.1\n",
      "CP034461.1\n",
      "CP034462.1\n"
     ]
    }
   ],
   "source": [
    "# Parse the GenBank file\n",
    "with open(genbank_file, \"r\") as handle:\n",
    "    for record in SeqIO.parse(handle, \"genbank\"):\n",
    "        # Process each record individually\n",
    "        print(record.id)  # For example, printing the record ID\n",
    "        # Add your other processing code here"
   ]
  },
  {
   "cell_type": "code",
   "execution_count": 32,
   "id": "cc66bdfc-f6da-497e-81e6-92e4daa67c6c",
   "metadata": {},
   "outputs": [
    {
     "name": "stdout",
     "output_type": "stream",
     "text": [
      "Found record with ID CP034458.1:\n",
      "ID: CP034458.1\n",
      "Name: CP034458\n",
      "Description: Metschnikowia aff. pulcherrima strain APC 1.2 chromosome III, complete sequence\n",
      "Database cross-references: BioProject:PRJNA508581, BioSample:SAMN10525143\n",
      "Number of features: 2801\n",
      "/molecule_type=DNA\n",
      "/topology=linear\n",
      "/data_file_division=PLN\n",
      "/date=23-MAY-2019\n",
      "/accessions=['CP034458']\n",
      "/sequence_version=1\n",
      "/keywords=['']\n",
      "/source=Metschnikowia aff. pulcherrima\n",
      "/organism=Metschnikowia aff. pulcherrima\n",
      "/taxonomy=['Eukaryota', 'Fungi', 'Dikarya', 'Ascomycota', 'Saccharomycotina', 'Saccharomycetes', 'Saccharomycetales', 'Metschnikowiaceae', 'Metschnikowia']\n",
      "/references=[Reference(title='Snf2 controls pulcherriminic acid biosynthesis and antifungal activity of the biocontrol yeast Metschnikowia pulcherrima', ...), Reference(title='Direct Submission', ...), Reference(title='Direct Submission', ...)]\n",
      "/structured_comment=defaultdict(<class 'dict'>, {'Genome-Assembly-Data': {'Assembly Date': '07-FEB-2017', 'Assembly Method': 'PacBio SMRT Portal (Canu) v. 2.3.0', 'Genome Representation': 'Full', 'Expected Final Version': 'Yes', 'Genome Coverage': '254.0x', 'Sequencing Technology': 'PacBio'}})\n",
      "Seq('TATTTATTAGATAAAAAATCAACACTCCAGAAGATTCATAATAACTTGTCGAAT...CAT')\n"
     ]
    }
   ],
   "source": [
    "from Bio import SeqIO\n",
    "\n",
    "genbank_file = \"GCA_004217705.1_ASM421770v1_genomic-1.gbk\"\n",
    "record_id = \"CP034458.1\"\n",
    "\n",
    "# Parse the GenBank file and find the specific record by ID\n",
    "with open(genbank_file, \"r\") as handle:\n",
    "    for record in SeqIO.parse(handle, \"genbank\"):\n",
    "        if record.id == record_id:\n",
    "            # Once the correct record is found, print or process it\n",
    "            print(f\"Found record with ID {record_id}:\")\n",
    "            print(record)  # Or process the record further as needed\n",
    "            break  # Exit the loop after finding the record"
   ]
  },
  {
   "cell_type": "code",
   "execution_count": 34,
   "id": "49db2587-6e76-4667-b789-0b7b759965e1",
   "metadata": {
    "editable": true,
    "slideshow": {
     "slide_type": ""
    },
    "tags": []
   },
   "outputs": [
    {
     "name": "stdout",
     "output_type": "stream",
     "text": [
      "Annotated record with ID CP034458.1 has been saved to CP034458_annotated_with_features.gbk\n"
     ]
    }
   ],
   "source": [
    "from Bio import SeqIO\n",
    "from Bio.SeqFeature import SeqFeature, FeatureLocation\n",
    "\n",
    "genbank_file = \"GCA_004217705.1_ASM421770v1_genomic-1.gbk\"\n",
    "record_id = \"CP034458.1\"\n",
    "output_file = \"CP034458_annotated_with_features.gbk\"\n",
    "\n",
    "# Parse the GenBank file and find the specific record by ID\n",
    "with open(genbank_file, \"r\") as handle:\n",
    "    for record in SeqIO.parse(handle, \"genbank\"):\n",
    "        if record.id == record_id:\n",
    "            # Add a custom feature annotation (example)\n",
    "            feature = SeqFeature(FeatureLocation(100, 200), type=\"gene\", qualifiers={\"gene\": \"example_gene\"})\n",
    "            record.features.append(feature)\n",
    "\n",
    "            # Save the annotated record to a new file\n",
    "            with open(output_file, \"w\") as output_handle:\n",
    "                SeqIO.write(record, output_handle, \"genbank\")\n",
    "            print(f\"Annotated record with ID {record_id} has been saved to {output_file}\")\n",
    "            break"
   ]
  },
  {
   "cell_type": "code",
   "execution_count": 56,
   "id": "828944e6-8187-407b-bb0c-f0ca3011f303",
   "metadata": {
    "editable": true,
    "slideshow": {
     "slide_type": ""
    },
    "tags": []
   },
   "outputs": [
    {
     "name": "stdout",
     "output_type": "stream",
     "text": [
      "      Gene Name  Start Position  End Position Strand\n",
      "0    QBM88047.1           27681         38832      -\n",
      "1    QBM88048.1           46148         50885      -\n",
      "2    QBM88049.1           58599         61146      +\n",
      "3    QBM88050.1           61437         62331      +\n",
      "4    QBM88051.1           62794         63580      -\n",
      "..          ...             ...           ...    ...\n",
      "901  QBM88948.1         2635418       2636420      -\n",
      "902  QBM88949.1         2638090       2640085      +\n",
      "903  QBM88950.1         2640148       2642512      +\n",
      "904  QBM88951.1         2642938       2643499      +\n",
      "905  QBM88952.1         2647365       2656026      +\n",
      "\n",
      "[906 rows x 4 columns]\n"
     ]
    },
    {
     "name": "stderr",
     "output_type": "stream",
     "text": [
      "/opt/anaconda3/lib/python3.12/site-packages/Bio/SeqFeature.py:231: BiopythonDeprecationWarning: Please use .location.strand rather than .strand\n",
      "  warnings.warn(\n"
     ]
    }
   ],
   "source": [
    "import pandas as pd\n",
    "from Bio import SeqIO\n",
    "\n",
    "genbank_file = \"CP034458_annotated_with_features.gbk\"\n",
    "record_id = \"CP034458.1\"\n",
    "\n",
    "# Initialize an empty list to store the gene information\n",
    "gene_data = []\n",
    "\n",
    "# Parse the GenBank file and find the specific record by ID\n",
    "with open(genbank_file, \"r\") as handle:\n",
    "    for record in SeqIO.parse(handle, \"genbank\"):\n",
    "        if record.id == record_id:\n",
    "            # Extract the CDS (coding region) annotations\n",
    "            for feature in record.features:\n",
    "                if feature.type == \"CDS\":\n",
    "                    # Extract the gene information: gene name, start, end, strand\n",
    "                    gene_info = {\n",
    "                        \"Gene Name\": feature.qualifiers.get(\"protein_id\", [\"unknown\"])[0],  # Protein ID or Gene Name\n",
    "                        \"Start Position\": int(feature.location.start),  # Start position of CDS\n",
    "                        \"End Position\": int(feature.location.end),      # End position of CDS\n",
    "                        \"Strand\": \"+\" if feature.strand == 1 else \"-\"  # Strand direction\n",
    "                    }\n",
    "                    gene_data.append(gene_info)\n",
    "\n",
    "# Create a DataFrame from the list of gene data\n",
    "df = pd.DataFrame(gene_data)\n",
    "\n",
    "# Display the table\n",
    "print(df)\n",
    "\n",
    "# If you want to save this table to a CSV file\n",
    "df.to_csv(\"coding_regions_table.csv\", index=False)\n",
    "\n",
    "\n",
    "\n"
   ]
  },
  {
   "cell_type": "code",
   "execution_count": 58,
   "id": "f533acf5-990c-4f5d-b640-828e7a2cd985",
   "metadata": {
    "editable": true,
    "slideshow": {
     "slide_type": ""
    },
    "tags": []
   },
   "outputs": [
    {
     "name": "stdout",
     "output_type": "stream",
     "text": [
      "                                               Product  Start Position  \\\n",
      "0    Hyphally regulated cell wall GPI-anchored prot...           27681   \n",
      "1      Hyphally regulated cell wall protein N-terminal           46148   \n",
      "2           small oligopeptide transporter, OPT family           58599   \n",
      "3           Pimeloyl-ACP methyl ester carboxylesterase           61437   \n",
      "4                                 hypothetical protein           62794   \n",
      "..                                                 ...             ...   \n",
      "901                                STE24 endopeptidase         2635418   \n",
      "902         Pleckstrin-likey domain-containing protein         2638090   \n",
      "903                    ATP-dependent RNA helicase DRS1         2640148   \n",
      "904  Integral membrane protein S linking to the tra...         2642938   \n",
      "905                                agglutinin-like ALS         2647365   \n",
      "\n",
      "     End Position Strand  \n",
      "0           38832      -  \n",
      "1           50885      -  \n",
      "2           61146      +  \n",
      "3           62331      +  \n",
      "4           63580      -  \n",
      "..            ...    ...  \n",
      "901       2636420      -  \n",
      "902       2640085      +  \n",
      "903       2642512      +  \n",
      "904       2643499      +  \n",
      "905       2656026      +  \n",
      "\n",
      "[906 rows x 4 columns]\n"
     ]
    },
    {
     "name": "stderr",
     "output_type": "stream",
     "text": [
      "/opt/anaconda3/lib/python3.12/site-packages/Bio/SeqFeature.py:231: BiopythonDeprecationWarning: Please use .location.strand rather than .strand\n",
      "  warnings.warn(\n"
     ]
    }
   ],
   "source": [
    "import pandas as pd\n",
    "from Bio import SeqIO\n",
    "\n",
    "genbank_file = \"CP034458_annotated_with_features.gbk\"\n",
    "record_id = \"CP034458.1\"\n",
    "\n",
    "# Initialize an empty list to store the gene information\n",
    "gene_data = []\n",
    "\n",
    "# Parse the GenBank file and find the specific record by ID\n",
    "with open(genbank_file, \"r\") as handle:\n",
    "    for record in SeqIO.parse(handle, \"genbank\"):\n",
    "        if record.id == record_id:\n",
    "            # Extract the CDS (coding region) annotations\n",
    "            for feature in record.features:\n",
    "                if feature.type == \"CDS\":\n",
    "                    # Extract the gene information: Product, start, end, strand\n",
    "                    gene_info = {\n",
    "                        \"Product\": feature.qualifiers.get(\"product\", [\"unknown\"])[0],  # Use Product, fallback to \"unknown\"\n",
    "                        \"Start Position\": int(feature.location.start),  # Start position of CDS\n",
    "                        \"End Position\": int(feature.location.end),      # End position of CDS\n",
    "                        \"Strand\": \"+\" if feature.strand == 1 else \"-\"  # Strand direction\n",
    "                    }\n",
    "                    gene_data.append(gene_info)\n",
    "\n",
    "# Create a DataFrame from the list of gene data\n",
    "df = pd.DataFrame(gene_data)\n",
    "\n",
    "# Display the table\n",
    "print(df)\n",
    "\n",
    "# If you want to save this table to a CSV file\n",
    "df.to_csv(\"coding_regions_table_with_product.csv\", index=False)\n"
   ]
  },
  {
   "cell_type": "code",
   "execution_count": null,
   "id": "6c6431fa-6d75-4f44-ba81-039ff9a5c3dd",
   "metadata": {},
   "outputs": [],
   "source": []
  }
 ],
 "metadata": {
  "kernelspec": {
   "display_name": "Python 3 (ipykernel)",
   "language": "python",
   "name": "python3"
  },
  "language_info": {
   "codemirror_mode": {
    "name": "ipython",
    "version": 3
   },
   "file_extension": ".py",
   "mimetype": "text/x-python",
   "name": "python",
   "nbconvert_exporter": "python",
   "pygments_lexer": "ipython3",
   "version": "3.12.7"
  }
 },
 "nbformat": 4,
 "nbformat_minor": 5
}
