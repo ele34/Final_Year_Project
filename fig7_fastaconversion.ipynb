{
 "cells": [
  {
   "cell_type": "code",
   "execution_count": 1,
   "id": "977680d8-2bfd-4103-8b98-4ecb0206717e",
   "metadata": {},
   "outputs": [
    {
     "name": "stdout",
     "output_type": "stream",
     "text": [
      "3.12.7 | packaged by conda-forge | (main, Oct  4 2024, 15:57:01) [Clang 17.0.6 ]\n"
     ]
    }
   ],
   "source": [
    "import sys\n",
    "print(sys.version)"
   ]
  },
  {
   "cell_type": "code",
   "execution_count": 15,
   "id": "3e8d50b6-f645-45f0-8c61-976f29221894",
   "metadata": {},
   "outputs": [
    {
     "name": "stdout",
     "output_type": "stream",
     "text": [
      "Current working directory: /Users/evaedwards\n"
     ]
    }
   ],
   "source": [
    "# Step 1: Check the working directory\n",
    "\n",
    "import os\n",
    "\n",
    "print(\"Current working directory:\", os.getcwd())\n"
   ]
  },
  {
   "cell_type": "code",
   "execution_count": 31,
   "id": "e06989a4-2822-4da8-b571-54eea5d994d7",
   "metadata": {},
   "outputs": [],
   "source": [
    "# Step 2: Creating the reference removing the unknowns\n",
    "\n",
    "from Bio import SeqIO\n",
    "\n",
    "# Open the original FASTA and write all except METSCH_ genes to a new file so we remove hypothetical proteins\n",
    "with open(\"referencegen.fasta\") as input_fasta, \\\n",
    "     open(\"referencegen_cleaned.fasta\", \"w\") as output_fasta:\n",
    "\n",
    "    for record in SeqIO.parse(input_fasta, \"fasta\"):\n",
    "        header = record.description\n",
    "        if \"GN=\" in header:\n",
    "            gene_name = header.split(\"GN=\")[1].split()[0]\n",
    "            if gene_name.startswith(\"METSCH_\"):\n",
    "                continue  # Skip METSCH_ genes\n",
    "        SeqIO.write(record, output_fasta, \"fasta\")\n",
    "\n"
   ]
  },
  {
   "cell_type": "code",
   "execution_count": 37,
   "id": "a2ede0e1-9767-4265-80e3-bb0224201524",
   "metadata": {},
   "outputs": [],
   "source": [
    "# Step 3: Converting TXT into fasta\n",
    "\n",
    "from Bio import SeqIO\n",
    "\n",
    "# Load text file\n",
    "with open(\"ch58cnvcd.txt\") as f:\n",
    "    target_genes = set(line.strip() for line in f)\n",
    "\n",
    "# Remove 'unknown' from the set if it exists so to remove hypothetical proteins\n",
    "target_genes.discard('unknown')\n",
    "\n",
    "# Save the filtered list (without 'unknown') to a new text file\n",
    "with open(\"ch58cnvcdnu.txt\", \"w\") as output_txt:\n",
    "    for gene in target_genes:\n",
    "        output_txt.write(gene + \"\\n\")\n",
    "\n",
    "# Open the FASTA file and write only matching sequences\n",
    "with open(\"referencegen_cleaned.fasta\") as input_fasta, \\\n",
    "     open(\"ch58cnvcdnew.fasta\", \"w\") as output_fasta:\n",
    "\n",
    "    for record in SeqIO.parse(input_fasta, \"fasta\"):\n",
    "        header = record.description\n",
    "        # Look for GN=... in the header\n",
    "        if \"GN=\" in header:\n",
    "            gene_name = header.split(\"GN=\")[1].split()[0]\n",
    "            if gene_name in target_genes:\n",
    "                SeqIO.write(record, output_fasta, \"fasta\")"
   ]
  },
  {
   "cell_type": "code",
   "execution_count": null,
   "id": "b52fc02f-16f0-42fd-b22f-fdca9121b2c7",
   "metadata": {},
   "outputs": [],
   "source": []
  }
 ],
 "metadata": {
  "kernelspec": {
   "display_name": "Python 3 (ipykernel)",
   "language": "python",
   "name": "python3"
  },
  "language_info": {
   "codemirror_mode": {
    "name": "ipython",
    "version": 3
   },
   "file_extension": ".py",
   "mimetype": "text/x-python",
   "name": "python",
   "nbconvert_exporter": "python",
   "pygments_lexer": "ipython3",
   "version": "3.12.7"
  }
 },
 "nbformat": 4,
 "nbformat_minor": 5
}
