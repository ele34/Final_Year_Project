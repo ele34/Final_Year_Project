{
 "cells": [
  {
   "cell_type": "code",
   "execution_count": 6,
   "id": "256cc0c8-145a-473e-85cb-9a838482b241",
   "metadata": {},
   "outputs": [
    {
     "name": "stdout",
     "output_type": "stream",
     "text": [
      "/Users/evaedwards/Final-Year-Project/Datasets/TXT\n",
      "Saved filtered data for matc2 to wg_median/matc2_MCWG.txt\n",
      "Saved filtered data for WS4 to wg_median/WS4_MCWG.txt\n",
      "Saved filtered data for jog19 to wg_median/jog19_MCWG.txt\n",
      "Saved filtered data for WS5 to wg_median/WS5_MCWG.txt\n",
      "Saved filtered data for matc3 to wg_median/matc3_MCWG.txt\n",
      "Saved filtered data for matc1 to wg_median/matc1_MCWG.txt\n",
      "Saved filtered data for WS7 to wg_median/WS7_MCWG.txt\n",
      "Saved filtered data for WS6 to wg_median/WS6_MCWG.txt\n",
      "Saved filtered data for matc4 to wg_median/matc4_MCWG.txt\n",
      "Saved filtered data for WS2 to wg_median/WS2_MCWG.txt\n",
      "Saved filtered data for WS3 to wg_median/WS3_MCWG.txt\n",
      "Saved filtered data for WS1 to wg_median/WS1_MCWG.txt\n",
      "Saved filtered data for jog20 to wg_median/jog20_MCWG.txt\n",
      "Saved filtered data for jog21 to wg_median/jog21_MCWG.txt\n",
      "Saved filtered data for mat22 to wg_median/mat22_MCWG.txt\n",
      "Saved filtered data for PP16 to wg_median/PP16_MCWG.txt\n",
      "Saved filtered data for jog1 to wg_median/jog1_MCWG.txt\n",
      "Saved filtered data for jogc5 to wg_median/jogc5_MCWG.txt\n",
      "Saved filtered data for jogc4 to wg_median/jogc4_MCWG.txt\n",
      "Saved filtered data for PP17 to wg_median/PP17_MCWG.txt\n",
      "Saved filtered data for mat23 to wg_median/mat23_MCWG.txt\n",
      "Saved filtered data for mat21 to wg_median/mat21_MCWG.txt\n",
      "Saved filtered data for PP15 to wg_median/PP15_MCWG.txt\n",
      "Saved filtered data for jog2 to wg_median/jog2_MCWG.txt\n",
      "Saved filtered data for NW13 to wg_median/NW13_MCWG.txt\n",
      "Saved filtered data for jog3 to wg_median/jog3_MCWG.txt\n",
      "Saved filtered data for PP14 to wg_median/PP14_MCWG.txt\n",
      "Saved filtered data for mat20 to wg_median/mat20_MCWG.txt\n",
      "Saved filtered data for mat24 to wg_median/mat24_MCWG.txt\n",
      "Saved filtered data for mat18 to wg_median/mat18_MCWG.txt\n",
      "Saved filtered data for PP10 to wg_median/PP10_MCWG.txt\n",
      "Saved filtered data for jog7 to wg_median/jog7_MCWG.txt\n",
      "Saved filtered data for NW16 to wg_median/NW16_MCWG.txt\n",
      "Saved filtered data for NW17 to wg_median/NW17_MCWG.txt\n",
      "Saved filtered data for jogc2 to wg_median/jogc2_MCWG.txt\n",
      "Saved filtered data for jog6 to wg_median/jog6_MCWG.txt\n",
      "Saved filtered data for PP11 to wg_median/PP11_MCWG.txt\n",
      "Saved filtered data for mat19 to wg_median/mat19_MCWG.txt\n",
      "Saved filtered data for PP8 to wg_median/PP8_MCWG.txt\n",
      "Saved filtered data for PP13 to wg_median/PP13_MCWG.txt\n",
      "Saved filtered data for NW15 to wg_median/NW15_MCWG.txt\n",
      "Saved filtered data for NW29 to wg_median/NW29_MCWG.txt\n",
      "Saved filtered data for NW28 to wg_median/NW28_MCWG.txt\n",
      "Saved filtered data for jogc1 to wg_median/jogc1_MCWG.txt\n",
      "Saved filtered data for NW14 to wg_median/NW14_MCWG.txt\n",
      "Saved filtered data for jog5 to wg_median/jog5_MCWG.txt\n",
      "Saved filtered data for PP12 to wg_median/PP12_MCWG.txt\n",
      "Saved filtered data for PP9 to wg_median/PP9_MCWG.txt\n",
      "Saved filtered data for mat17 to wg_median/mat17_MCWG.txt\n",
      "Saved filtered data for PP4 to wg_median/PP4_MCWG.txt\n",
      "Saved filtered data for PP23 to wg_median/PP23_MCWG.txt\n",
      "Saved filtered data for jog8 to wg_median/jog8_MCWG.txt\n",
      "Saved filtered data for NW19 to wg_median/NW19_MCWG.txt\n",
      "Saved filtered data for NW31 to wg_median/NW31_MCWG.txt\n",
      "Saved filtered data for NW25 to wg_median/NW25_MCWG.txt\n",
      "Saved filtered data for NW24 to wg_median/NW24_MCWG.txt\n",
      "Saved filtered data for NW30 to wg_median/NW30_MCWG.txt\n",
      "Saved filtered data for NW18 to wg_median/NW18_MCWG.txt\n",
      "Saved filtered data for PP22 to wg_median/PP22_MCWG.txt\n",
      "Saved filtered data for PP5 to wg_median/PP5_MCWG.txt\n",
      "Saved filtered data for mat16 to wg_median/mat16_MCWG.txt\n",
      "Saved filtered data for mat14 to wg_median/mat14_MCWG.txt\n",
      "Saved filtered data for PP7 to wg_median/PP7_MCWG.txt\n",
      "Saved filtered data for PP20 to wg_median/PP20_MCWG.txt\n",
      "Saved filtered data for NW26 to wg_median/NW26_MCWG.txt\n",
      "Saved filtered data for NW32 to wg_median/NW32_MCWG.txt\n",
      "Saved filtered data for NW33 to wg_median/NW33_MCWG.txt\n",
      "Saved filtered data for NW27 to wg_median/NW27_MCWG.txt\n",
      "Saved filtered data for PP21 to wg_median/PP21_MCWG.txt\n",
      "Saved filtered data for PP6 to wg_median/PP6_MCWG.txt\n",
      "Saved filtered data for mat15 to wg_median/mat15_MCWG.txt\n",
      "Saved filtered data for PP25 to wg_median/PP25_MCWG.txt\n",
      "Saved filtered data for PP19 to wg_median/PP19_MCWG.txt\n",
      "Saved filtered data for NW23 to wg_median/NW23_MCWG.txt\n",
      "Saved filtered data for NW36 to wg_median/NW36_MCWG.txt\n",
      "Saved filtered data for NW22 to wg_median/NW22_MCWG.txt\n",
      "Saved filtered data for PP18 to wg_median/PP18_MCWG.txt\n",
      "Saved filtered data for PP3 to wg_median/PP3_MCWG.txt\n",
      "Saved filtered data for PP24 to wg_median/PP24_MCWG.txt\n",
      "Saved filtered data for PP1 to wg_median/PP1_MCWG.txt\n",
      "Saved filtered data for NW34 to wg_median/NW34_MCWG.txt\n",
      "Saved filtered data for NW20 to wg_median/NW20_MCWG.txt\n",
      "Saved filtered data for NW21 to wg_median/NW21_MCWG.txt\n",
      "Saved filtered data for NW35 to wg_median/NW35_MCWG.txt\n",
      "Saved filtered data for mat13 to wg_median/mat13_MCWG.txt\n",
      "Saved filtered data for jog10 to wg_median/jog10_MCWG.txt\n",
      "Saved filtered data for jog11 to wg_median/jog11_MCWG.txt\n",
      "Saved filtered data for jog13 to wg_median/jog13_MCWG.txt\n",
      "Saved filtered data for jog12 to wg_median/jog12_MCWG.txt\n",
      "Saved filtered data for WS11 to wg_median/WS11_MCWG.txt\n",
      "Saved filtered data for WS10 to wg_median/WS10_MCWG.txt\n",
      "Saved filtered data for WS8 to wg_median/WS8_MCWG.txt\n",
      "Saved filtered data for WS12 to wg_median/WS12_MCWG.txt\n",
      "Saved filtered data for jog15 to wg_median/jog15_MCWG.txt\n",
      "Saved filtered data for jog14 to wg_median/jog14_MCWG.txt\n",
      "Saved filtered data for WS9 to wg_median/WS9_MCWG.txt\n",
      "Saved median coverages to wg_median/WG_Median_Coverage.csv\n"
     ]
    }
   ],
   "source": [
    "import pandas as pd\n",
    "import glob\n",
    "import os\n",
    "import numpy as np\n",
    "\n",
    "os.chdir('/Users/evaedwards/Final-Year-Project/Datasets/TXT')\n",
    "print(os.getcwd())\n",
    "\n",
    "# Define input and output file paths\n",
    "input_files = glob.glob(\"CH58/*.txt\")  # This contains full txt files but just called this for now\n",
    "output_folder = \"wg_median/\"  # Folder to store filtered files\n",
    "os.makedirs(output_folder, exist_ok=True)  # Create folder if it doesn't exist\n",
    "\n",
    "# Dictionary to store median coverages for each strain\n",
    "median_coverages = {}\n",
    "\n",
    "# Process each file\n",
    "for file in input_files:\n",
    "    strain_name = os.path.basename(file).replace(\".txt\", \"\")  # Extract strain name\n",
    "    \n",
    "    # Load the coverage data (assuming tab-separated format, no headers)\n",
    "    df = pd.read_csv(file, sep=\"\\t\", header=None, names=[\"Chromosome\", \"Position\", \"Coverage\"])\n",
    "    \n",
    "    # Calculate median coverage for this strain\n",
    "    median_coverage = np.median(df[\"Coverage\"].dropna())  # Drop NaN values\n",
    "    median_coverages[strain_name] = round(median_coverage)  # Store rounded median\n",
    "\n",
    "    # Add a new column with median coverage (same for all rows in this strain's file)\n",
    "    df[\"Median Coverage\"] = round(median_coverage)  # Adds the median to each row\n",
    "    \n",
    "    # Save the filtered data with median coverage\n",
    "    output_file = os.path.join(output_folder, f\"{strain_name}_MCWG.txt\")\n",
    "    df.to_csv(output_file, sep=\"\\t\", index=False, header=False)\n",
    "\n",
    "    print(f\"Saved filtered data for {strain_name} to {output_file}\")\n",
    "\n",
    "# Step 2: Create a separate CSV file with just the median coverages\n",
    "median_df = pd.DataFrame(list(median_coverages.items()), columns=[\"Strain\", \"Median Coverage\"])\n",
    "median_output_file = os.path.join(output_folder, \"WG_Median_Coverage.csv\")\n",
    "median_df.to_csv(median_output_file, index=False)\n",
    "\n",
    "print(f\"Saved median coverages to {median_output_file}\")"
   ]
  },
  {
   "cell_type": "code",
   "execution_count": 7,
   "id": "ca53a083-e3a6-4087-b2eb-e67486ed0aec",
   "metadata": {},
   "outputs": [
    {
     "name": "stdout",
     "output_type": "stream",
     "text": [
      "/Users/evaedwards/Final-Year-Project/Datasets/TXT\n",
      "Saved updated CSV as WG_median_coverage_CAPITALIZED.csv\n"
     ]
    }
   ],
   "source": [
    "import pandas as pd\n",
    "import os\n",
    "\n",
    "os.chdir('/Users/evaedwards/Final-Year-Project/Datasets/TXT')\n",
    "print(os.getcwd())\n",
    "\n",
    "# Load the CSV file\n",
    "file_path = \"WG_median_coverage.csv\"  # Adjust path if needed\n",
    "df = pd.read_csv(file_path)\n",
    "\n",
    "# Ensure strain names are capitalized (assuming the column is named \"Strain\")\n",
    "df[\"Strain\"] = df[\"Strain\"].str.upper()\n",
    "\n",
    "# Save the modified data to a new CSV file\n",
    "output_path = \"WG_median_coverage_CAPITALIZED.csv\"  # New file name\n",
    "df.to_csv(output_path, index=False)\n",
    "\n",
    "print(f\"Saved updated CSV as {output_path}\")\n"
   ]
  },
  {
   "cell_type": "code",
   "execution_count": 10,
   "id": "6d150067-d381-4a95-882d-712080a1cac9",
   "metadata": {},
   "outputs": [
    {
     "name": "stdout",
     "output_type": "stream",
     "text": [
      "/Users/evaedwards/Final-Year-Project/Datasets/TXT\n",
      "Saved filtered data for APC12 to wg_median/APC12_MCWG.txt\n",
      "Saved median coverages to wg_median/WG_Median_Coverage_APC.csv\n"
     ]
    }
   ],
   "source": [
    "import pandas as pd\n",
    "import glob\n",
    "import os\n",
    "import numpy as np\n",
    "\n",
    "os.chdir('/Users/evaedwards/Final-Year-Project/Datasets/TXT')\n",
    "print(os.getcwd())\n",
    "\n",
    "# Define input and output file paths\n",
    "input_files = glob.glob(\"APC/*.txt\")  # This contains full txt files but just called this for now\n",
    "output_folder = \"wg_median/\"  # Folder to store filtered files\n",
    "os.makedirs(output_folder, exist_ok=True)  # Create folder if it doesn't exist\n",
    "\n",
    "# Dictionary to store median coverages for each strain\n",
    "median_coverages = {}\n",
    "\n",
    "# Process each file\n",
    "for file in input_files:\n",
    "    strain_name = os.path.basename(file).replace(\".txt\", \"\")  # Extract strain name\n",
    "    \n",
    "    # Load the coverage data (assuming tab-separated format, no headers)\n",
    "    df = pd.read_csv(file, sep=\"\\t\", header=None, names=[\"Chromosome\", \"Position\", \"Coverage\"])\n",
    "    \n",
    "    # Calculate median coverage for this strain\n",
    "    median_coverage = np.median(df[\"Coverage\"].dropna())  # Drop NaN values\n",
    "    median_coverages[strain_name] = round(median_coverage)  # Store rounded median\n",
    "\n",
    "    # Add a new column with median coverage (same for all rows in this strain's file)\n",
    "    df[\"Median Coverage\"] = round(median_coverage)  # Adds the median to each row\n",
    "    \n",
    "    # Save the filtered data with median coverage\n",
    "    output_file = os.path.join(output_folder, f\"{strain_name}_MCWG.txt\")\n",
    "    df.to_csv(output_file, sep=\"\\t\", index=False, header=False)\n",
    "\n",
    "    print(f\"Saved filtered data for {strain_name} to {output_file}\")\n",
    "\n",
    "# Step 2: Create a separate CSV file with just the median coverages\n",
    "median_df = pd.DataFrame(list(median_coverages.items()), columns=[\"Strain\", \"Median Coverage\"])\n",
    "median_output_file = os.path.join(output_folder, \"WG_Median_Coverage_APC.csv\")\n",
    "median_df.to_csv(median_output_file, index=False)\n",
    "\n",
    "print(f\"Saved median coverages to {median_output_file}\")"
   ]
  },
  {
   "cell_type": "code",
   "execution_count": 2,
   "id": "137e23d2-9c87-4e41-a580-1bfe9b614348",
   "metadata": {},
   "outputs": [
    {
     "name": "stdout",
     "output_type": "stream",
     "text": [
      "git version 2.39.2 (Apple Git-143)\n"
     ]
    }
   ],
   "source": [
    "!git --version"
   ]
  },
  {
   "cell_type": "code",
   "execution_count": 4,
   "id": "53cf5999-c8c9-44a1-bc78-9304568bda24",
   "metadata": {},
   "outputs": [
    {
     "data": {
      "text/plain": [
       "'/Users/evaedwards/Final-Year-Project/Code'"
      ]
     },
     "execution_count": 4,
     "metadata": {},
     "output_type": "execute_result"
    }
   ],
   "source": [
    "import os\n",
    "os.getcwd()"
   ]
  },
  {
   "cell_type": "code",
   "execution_count": 6,
   "id": "f097918a-4192-4dcb-b1d7-32ba9a1e99cd",
   "metadata": {},
   "outputs": [],
   "source": [
    "!git add WG_mediancoverage.ipynb"
   ]
  },
  {
   "cell_type": "code",
   "execution_count": 8,
   "id": "2b16cb40-b300-4bca-bfd3-1ed72fee077a",
   "metadata": {},
   "outputs": [
    {
     "name": "stdout",
     "output_type": "stream",
     "text": [
      "On branch main\n",
      "Untracked files:\n",
      "  (use \"git add <file>...\" to include in what will be committed)\n",
      "\t\u001b[31m.DS_Store\u001b[m\n",
      "\t\u001b[31m.ipynb_checkpoints/\u001b[m\n",
      "\t\u001b[31m97CRP 2.R\u001b[m\n",
      "\t\u001b[31m97CRP.R\u001b[m\n",
      "\t\u001b[31mFigure1.R\u001b[m\n",
      "\t\u001b[31mFigure2-draft2.R\u001b[m\n",
      "\t\u001b[31mFigure2A.R\u001b[m\n",
      "\t\u001b[31mFigure2B.R\u001b[m\n",
      "\t\u001b[31mFinal_Year_Project/\u001b[m\n",
      "\t\u001b[31mHCcoverage.R\u001b[m\n",
      "\t\u001b[31mIC_code.R\u001b[m\n",
      "\t\u001b[31mIP_draft2.R\u001b[m\n",
      "\t\u001b[31mIPshiny_adv.R\u001b[m\n",
      "\t\u001b[31mInteractivePlot_Shiny.R\u001b[m\n",
      "\t\u001b[31mInteractive_Coverage.R\u001b[m\n",
      "\t\u001b[31mInteractive_Coverage_All.R\u001b[m\n",
      "\t\u001b[31mInteractive_Plot.R\u001b[m\n",
      "\t\u001b[31mQ1final.R\u001b[m\n",
      "\t\u001b[31mQ1lmer.R\u001b[m\n",
      "\t\u001b[31mQ1q1new.R\u001b[m\n",
      "\t\u001b[31mQ2.R\u001b[m\n",
      "\t\u001b[31mQ2d2.R\u001b[m\n",
      "\t\u001b[31mTable_Alldata_2.R\u001b[m\n",
      "\t\u001b[31mallcoveragwe.R\u001b[m\n",
      "\t\u001b[31mchart.R\u001b[m\n",
      "\t\u001b[31minteractiveplot_updated.R\u001b[m\n",
      "\t\u001b[31msignif.R\u001b[m\n",
      "\n",
      "nothing added to commit but untracked files present (use \"git add\" to track)\n"
     ]
    }
   ],
   "source": [
    "!git commit -m \"Added WG_mediancoverage.ipynb\""
   ]
  },
  {
   "cell_type": "code",
   "execution_count": null,
   "id": "477a25d7-cc88-4fae-9ac8-87f072540533",
   "metadata": {},
   "outputs": [],
   "source": []
  }
 ],
 "metadata": {
  "kernelspec": {
   "display_name": "Python 3 (ipykernel)",
   "language": "python",
   "name": "python3"
  },
  "language_info": {
   "codemirror_mode": {
    "name": "ipython",
    "version": 3
   },
   "file_extension": ".py",
   "mimetype": "text/x-python",
   "name": "python",
   "nbconvert_exporter": "python",
   "pygments_lexer": "ipython3",
   "version": "3.12.7"
  }
 },
 "nbformat": 4,
 "nbformat_minor": 5
}
